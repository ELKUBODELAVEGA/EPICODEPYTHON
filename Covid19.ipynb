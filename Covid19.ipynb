{
 "cells": [
  {
   "cell_type": "code",
   "execution_count": null,
   "metadata": {},
   "outputs": [],
   "source": [
    "import pandas as pd\n",
    "\n",
    "# Caricamento del dataset\n",
    "file_path = r'c:\\Users\\iMac\\Desktop\\python\\owid-covid-data.csv'\n",
    "df = pd.read_csv(file_path)\n",
    "\n",
    "# Ispezione delle dimensioni e dei metadati del dataset\n",
    "df_shape = df.shape\n",
    "df_info = df.info()\n",
    "df_head = df.head()\n",
    "\n",
    "df_shape, df_info, df_head\n"
   ]
  },
  {
   "cell_type": "code",
   "execution_count": null,
   "metadata": {},
   "outputs": [],
   "source": [
    "# Caricamento del dataset\n",
    "file_path = 'c:\\Users\\iMac\\Desktop\\python\\owid-covid-data.csv'\n",
    "df = pd.read_csv(file_path)\n",
    "\n",
    "# Visualizzazione delle prime righe del dataset e delle colonne\n",
    "df.head(), df.columns\n"
   ]
  },
  {
   "cell_type": "code",
   "execution_count": null,
   "metadata": {},
   "outputs": [],
   "source": [
    "import pandas as pd\n",
    "\n",
    "# Caricamento del dataset\n",
    "file_path = 'path/to/your/dataset.csv'\n",
    "df = pd.read_csv(file_path)\n",
    "\n",
    "# Ispezione delle dimensioni e dei metadati del dataset\n",
    "print(df.shape)\n",
    "print(df.info())\n",
    "print(df.head())\n"
   ]
  },
  {
   "cell_type": "code",
   "execution_count": null,
   "metadata": {},
   "outputs": [],
   "source": [
    "# Filtrare le righe con continenti validi\n",
    "df_continents = df.dropna(subset=['continent'])\n",
    "\n",
    "# Calcolare i casi totali per continente\n",
    "cases_per_continent = df_continents.groupby('continent')['total_cases'].sum()\n",
    "print(cases_per_continent)\n"
   ]
  },
  {
   "cell_type": "code",
   "execution_count": null,
   "metadata": {},
   "outputs": [],
   "source": [
    "def compare_continents(continent1, continent2):\n",
    "    df1 = df_continents[df_continents['continent'] == continent1]['total_cases']\n",
    "    df2 = df_continents[df_continents['continent'] == continent2]['total_cases']\n",
    "    \n",
    "    max1, mean1, sum1 = df1.max(), df1.mean(), df1.sum()\n",
    "    max2, mean2, sum2 = df2.max(), df2.mean(), df2.sum()\n",
    "    \n",
    "    total_cases_worldwide = df['total_cases'].sum()\n",
    "    \n",
    "    percent1 = (sum1 / total_cases_worldwide) * 100\n",
    "    percent2 = (sum2 / total_cases_worldwide) * 100\n",
    "    \n",
    "    return (max1, mean1, percent1), (max2, mean2, percent2)\n",
    "\n",
    "continent1_stats, continent2_stats = compare_continents('Europe', 'Asia')\n",
    "print(continent1_stats, continent2_stats)\n"
   ]
  },
  {
   "cell_type": "code",
   "execution_count": null,
   "metadata": {},
   "outputs": [],
   "source": [
    "import matplotlib.pyplot as plt\n",
    "\n",
    "# Filtrare i dati per l'Italia nel 2022\n",
    "df_italy_2022 = df[(df['location'] == 'Italy') & (df['date'].str.startswith('2022'))]\n",
    "\n",
    "# Convertire la colonna delle date in formato datetime\n",
    "df_italy_2022['date'] = pd.to_datetime(df_italy_2022['date'])\n",
    "\n",
    "# Grafico dei casi totali rispetto alla data\n",
    "plt.figure(figsize=(10, 5))\n",
    "plt.plot(df_italy_2022['date'], df_italy_2022['total_cases'])\n",
    "plt.title('Casi Totali in Italia nel 2022')\n",
    "plt.xlabel('Data')\n",
    "plt.ylabel('Casi Totali')\n",
    "plt.show()\n",
    "\n",
    "# Grafico dei nuovi casi rispetto alla data\n",
    "plt.figure(figsize=(10, 5))\n",
    "plt.plot(df_italy_2022['date'], df_italy_2022['new_cases'])\n",
    "plt.title('Nuovi Casi in Italia nel 2022')\n",
    "plt.xlabel('Data')\n",
    "plt.ylabel('Nuovi Casi')\n",
    "plt.show()\n",
    "\n",
    "# Grafico della somma cumulativa dei nuovi casi\n",
    "df_italy_2022['cumulative_new_cases'] = df_italy_2022['new_cases'].cumsum()\n",
    "plt.figure(figsize=(10, 5))\n",
    "plt.plot(df_italy_2022['date'], df_italy_2022['cumulative_new_cases'])\n",
    "plt.title('Somma Cumulativa dei Nuovi Casi in Italia nel 2022')\n",
    "plt.xlabel('Data')\n",
    "plt.ylabel('Cumulativa Nuovi Casi')\n",
    "plt.show()\n"
   ]
  },
  {
   "cell_type": "code",
   "execution_count": null,
   "metadata": {},
   "outputs": [],
   "source": [
    "# Filtrare i dati da maggio 2022 a aprile 2023\n",
    "df_icu = df[(df['date'] >= '2022-05-01') & (df['date'] <= '2023-04-30') & \n",
    "            (df['location'].isin(['Italy', 'Germany', 'France']))]\n",
    "\n",
    "# Boxplot per i pazienti in terapia intensiva\n",
    "plt.figure(figsize=(10, 5))\n",
    "df_icu.boxplot(column='icu_patients', by='location')\n",
    "plt.title('Pazienti in Terapia Intensiva (Maggio 2022 - Aprile 2023)')\n",
    "plt.xlabel('Nazione')\n",
    "plt.ylabel('Pazienti in Terapia Intensiva')\n",
    "plt.suptitle('')\n",
    "plt.show()\n"
   ]
  },
  {
   "cell_type": "code",
   "execution_count": null,
   "metadata": {},
   "outputs": [],
   "source": [
    "# Filtrare i dati per il 2023\n",
    "df_hosp_2023 = df[(df['date'].str.startswith('2023')) & \n",
    "                  (df['location'].isin(['Italy', 'Germany', 'France', 'Spain']))]\n",
    "\n",
    "# Calcolare la somma dei pazienti ospitalizzati per ogni nazione\n",
    "hosp_sum = df_hosp_2023.groupby('location')['hosp_patients'].sum()\n",
    "\n",
    "print(hosp_sum)\n"
   ]
  }
 ],
 "metadata": {
  "language_info": {
   "name": "python"
  }
 },
 "nbformat": 4,
 "nbformat_minor": 2
}
